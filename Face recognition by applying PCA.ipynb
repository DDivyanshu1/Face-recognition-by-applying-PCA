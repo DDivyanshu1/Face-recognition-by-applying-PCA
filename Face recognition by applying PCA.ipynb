{
  "nbformat": 4,
  "nbformat_minor": 0,
  "metadata": {
    "colab": {
      "name": "M_L_.ipynb",
      "provenance": []
    },
    "kernelspec": {
      "name": "python3",
      "display_name": "Python 3"
    },
    "language_info": {
      "name": "python"
    }
  },
  "cells": [
    {
      "cell_type": "code",
      "metadata": {
        "id": "VG84fE9NHhq8"
      },
      "source": [
        "import pylab as pl\n",
        "import numpy as np\n",
        "from matplotlib import pyplot as plt\n",
        "from sklearn.model_selection import train_test_split\n",
        "from sklearn.datasets import fetch_lfw_people\n",
        "from sklearn.model_selection import GridSearchCV\n",
        "from sklearn.metrics import classification_report\n",
        "from sklearn.metrics import confusion_matrix\n",
        "from sklearn.decomposition import PCA as RandomizedPCA\n",
        "from sklearn.svm import SVC"
      ],
      "execution_count": null,
      "outputs": []
    },
    {
      "cell_type": "code",
      "metadata": {
        "id": "H_xv7mLAR7ZQ",
        "colab": {
          "base_uri": "https://localhost:8080/"
        },
        "outputId": "97c0729e-e15d-465f-b14d-4628670d2d42"
      },
      "source": [
        "lfw_people = fetch_lfw_people(min_faces_per_person=70, resize=0.4)"
      ],
      "execution_count": null,
      "outputs": [
        {
          "output_type": "stream",
          "name": "stderr",
          "text": [
            "Downloading LFW metadata: https://ndownloader.figshare.com/files/5976012\n",
            "Downloading LFW metadata: https://ndownloader.figshare.com/files/5976009\n",
            "Downloading LFW metadata: https://ndownloader.figshare.com/files/5976006\n",
            "Downloading LFW data (~200MB): https://ndownloader.figshare.com/files/5976015\n"
          ]
        }
      ]
    },
    {
      "cell_type": "code",
      "metadata": {
        "colab": {
          "base_uri": "https://localhost:8080/"
        },
        "id": "K0Jj6cHSSC4H",
        "outputId": "ceaa8d1b-260b-40de-a816-3e2d8439b61b"
      },
      "source": [
        "n_samples, h, w = lfw_people.images.shape\n",
        "np.random.seed(42)\n",
        "print(\"height: \", h)\n",
        "print(\"width: \", w)"
      ],
      "execution_count": null,
      "outputs": [
        {
          "output_type": "stream",
          "name": "stdout",
          "text": [
            "height:  50\n",
            "width:  37\n"
          ]
        }
      ]
    },
    {
      "cell_type": "code",
      "metadata": {
        "colab": {
          "base_uri": "https://localhost:8080/"
        },
        "id": "bFvjc4f_SFbi",
        "outputId": "f8b8ba5a-eeec-484e-be97-972aba5b603e"
      },
      "source": [
        "X = lfw_people.data\n",
        "n_features = X.shape[1]\n",
        "X"
      ],
      "execution_count": null,
      "outputs": [
        {
          "output_type": "execute_result",
          "data": {
            "text/plain": [
              "array([[254.      , 254.      , 251.66667 , ...,  87.333336,  88.666664,\n",
              "         86.666664],\n",
              "       [ 39.666668,  50.333332,  47.      , ..., 117.666664, 115.      ,\n",
              "        133.66667 ],\n",
              "       [ 89.333336, 104.      , 126.      , ..., 175.33333 , 183.33333 ,\n",
              "        183.      ],\n",
              "       ...,\n",
              "       [ 86.      ,  80.333336,  74.666664, ...,  44.      ,  49.666668,\n",
              "         44.666668],\n",
              "       [ 50.333332,  65.666664,  88.      , ..., 197.      , 179.33333 ,\n",
              "        166.33333 ],\n",
              "       [ 30.      ,  27.      ,  32.666668, ...,  35.      ,  35.333332,\n",
              "         61.      ]], dtype=float32)"
            ]
          },
          "metadata": {},
          "execution_count": 4
        }
      ]
    },
    {
      "cell_type": "code",
      "metadata": {
        "colab": {
          "base_uri": "https://localhost:8080/"
        },
        "id": "62sJ6pJNSJwv",
        "outputId": "3f352a70-379a-4fce-dc42-171cbb1d24df"
      },
      "source": [
        "y = lfw_people.target\n",
        "target_names = lfw_people.target_names\n",
        "n_classes = target_names.shape[0]\n",
        "y"
      ],
      "execution_count": null,
      "outputs": [
        {
          "output_type": "execute_result",
          "data": {
            "text/plain": [
              "array([5, 6, 3, ..., 5, 3, 5])"
            ]
          },
          "metadata": {},
          "execution_count": 5
        }
      ]
    },
    {
      "cell_type": "code",
      "metadata": {
        "colab": {
          "base_uri": "https://localhost:8080/"
        },
        "id": "JM2sG-IbXRQs",
        "outputId": "39a7f2ee-2f59-4394-bb09-4129b1844bbd"
      },
      "source": [
        "target_names"
      ],
      "execution_count": null,
      "outputs": [
        {
          "output_type": "execute_result",
          "data": {
            "text/plain": [
              "array(['Ariel Sharon', 'Colin Powell', 'Donald Rumsfeld', 'George W Bush',\n",
              "       'Gerhard Schroeder', 'Hugo Chavez', 'Tony Blair'], dtype='<U17')"
            ]
          },
          "metadata": {},
          "execution_count": 6
        }
      ]
    },
    {
      "cell_type": "code",
      "metadata": {
        "colab": {
          "base_uri": "https://localhost:8080/"
        },
        "id": "jWo1DF3CSNUg",
        "outputId": "e5127b18-b6db-4b9c-eb4b-29424fa631ce"
      },
      "source": [
        "print(\"Total dataset size:\")\n",
        "print(\"n_samples: \", n_samples)\n",
        "print(\"n_features: \", n_features)\n",
        "print(\"n_classes: \", n_classes)"
      ],
      "execution_count": null,
      "outputs": [
        {
          "output_type": "stream",
          "name": "stdout",
          "text": [
            "Total dataset size:\n",
            "n_samples:  1288\n",
            "n_features:  1850\n",
            "n_classes:  7\n"
          ]
        }
      ]
    },
    {
      "cell_type": "code",
      "metadata": {
        "id": "fOQWt2QnSR58"
      },
      "source": [
        "X_train, X_test, y_train, y_test = train_test_split(X, y, test_size=0.25, random_state=42)"
      ],
      "execution_count": null,
      "outputs": []
    },
    {
      "cell_type": "code",
      "metadata": {
        "id": "GiDDYGz7SVwQ"
      },
      "source": [
        "n_components = 50\n",
        "pca = RandomizedPCA(n_components=n_components, whiten=True).fit(X_train)"
      ],
      "execution_count": null,
      "outputs": []
    },
    {
      "cell_type": "code",
      "metadata": {
        "id": "a-V26gbESZqR"
      },
      "source": [
        "eigenfaces = pca.components_.reshape((n_components, h, w))"
      ],
      "execution_count": null,
      "outputs": []
    },
    {
      "cell_type": "code",
      "metadata": {
        "colab": {
          "base_uri": "https://localhost:8080/"
        },
        "id": "I5HscVdDSck7",
        "outputId": "8a139947-d0f9-4425-fde7-240cea3a9c31"
      },
      "source": [
        "X_train_pca = pca.transform(X_train)\n",
        "X_test_pca = pca.transform(X_test)\n",
        "X_test_pca"
      ],
      "execution_count": null,
      "outputs": [
        {
          "output_type": "execute_result",
          "data": {
            "text/plain": [
              "array([[-1.3752162 , -1.8456291 , -0.92527485, ..., -0.14582357,\n",
              "         0.92061925,  0.12070157],\n",
              "       [-0.8188028 ,  1.5192858 , -0.682808  , ...,  0.9435259 ,\n",
              "        -0.66160226, -1.8719558 ],\n",
              "       [-0.86984307, -0.29294565, -1.2279296 , ..., -0.31306827,\n",
              "         0.9618731 ,  1.1893504 ],\n",
              "       ...,\n",
              "       [ 0.15374473, -0.71778286,  0.8388113 , ..., -0.03754098,\n",
              "         0.7358097 , -0.25285038],\n",
              "       [ 0.05700833,  0.48382726, -0.15327793, ...,  0.44157866,\n",
              "        -0.37815598, -1.4115919 ],\n",
              "       [ 0.19353272,  0.64531654,  0.7491275 , ..., -0.21149579,\n",
              "        -0.06401026, -0.5664464 ]], dtype=float32)"
            ]
          },
          "metadata": {},
          "execution_count": 11
        }
      ]
    },
    {
      "cell_type": "code",
      "metadata": {
        "colab": {
          "base_uri": "https://localhost:8080/"
        },
        "id": "hKTiMu2IWSQE",
        "outputId": "c89b2918-ba16-4c28-d9dc-35c8da54c4c6"
      },
      "source": [
        "X_train_pca"
      ],
      "execution_count": null,
      "outputs": [
        {
          "output_type": "execute_result",
          "data": {
            "text/plain": [
              "array([[-2.0756025 , -1.0457929 ,  2.1269383 , ..., -1.0154101 ,\n",
              "         5.790984  ,  1.0256729 ],\n",
              "       [ 1.3211099 ,  0.5928379 ,  0.5341539 , ...,  0.07649215,\n",
              "         0.07810579, -0.05250859],\n",
              "       [-0.76119214, -0.01973095, -0.23990783, ..., -0.56776905,\n",
              "        -0.40592268, -0.416572  ],\n",
              "       ...,\n",
              "       [-0.7603135 ,  0.04025835, -0.21245281, ..., -0.40281674,\n",
              "         0.6007986 ,  0.7120991 ],\n",
              "       [-0.2674216 ,  0.8386405 , -0.22219817, ..., -0.28928593,\n",
              "        -0.53247344,  0.41138422],\n",
              "       [-1.3195622 , -1.1266978 ,  0.1561696 , ..., -0.27834675,\n",
              "         0.24534662,  0.11436054]], dtype=float32)"
            ]
          },
          "metadata": {},
          "execution_count": 12
        }
      ]
    },
    {
      "cell_type": "code",
      "metadata": {
        "colab": {
          "base_uri": "https://localhost:8080/"
        },
        "id": "NVmuIN9USees",
        "outputId": "55ff80a9-03a2-43f7-944b-10791a777bcc"
      },
      "source": [
        "param_grid = {\n",
        "         'C': [1e3, 5e3, 1e4, 5e4, 1e5],\n",
        "          'gamma': [0.0001, 0.0005, 0.001, 0.005, 0.01, 0.1],\n",
        "          }\n",
        "clf = GridSearchCV(SVC(kernel='rbf', class_weight='balanced'), param_grid)\n",
        "clf = clf.fit(X_train_pca, y_train)\n",
        "\n",
        "print(clf.best_estimator_)"
      ],
      "execution_count": null,
      "outputs": [
        {
          "output_type": "stream",
          "name": "stdout",
          "text": [
            "SVC(C=1000.0, break_ties=False, cache_size=200, class_weight='balanced',\n",
            "    coef0=0.0, decision_function_shape='ovr', degree=3, gamma=0.01,\n",
            "    kernel='rbf', max_iter=-1, probability=False, random_state=None,\n",
            "    shrinking=True, tol=0.001, verbose=False)\n"
          ]
        }
      ]
    },
    {
      "cell_type": "code",
      "metadata": {
        "colab": {
          "base_uri": "https://localhost:8080/"
        },
        "id": "IcsLLaVlS2-W",
        "outputId": "287f9a84-1836-478f-abb1-23cb2e8e1959"
      },
      "source": [
        "print(\"Predicting the people names on the testing set\")\n",
        "y_pred = clf.predict(X_test_pca)\n",
        "y_pred"
      ],
      "execution_count": null,
      "outputs": [
        {
          "output_type": "stream",
          "name": "stdout",
          "text": [
            "Predicting the people names on the testing set\n"
          ]
        },
        {
          "output_type": "execute_result",
          "data": {
            "text/plain": [
              "array([3, 3, 6, 3, 3, 3, 4, 1, 3, 3, 3, 3, 3, 4, 3, 3, 6, 1, 3, 4, 1, 0,\n",
              "       3, 0, 0, 1, 0, 3, 3, 3, 2, 3, 3, 3, 2, 3, 3, 1, 3, 1, 3, 1, 3, 1,\n",
              "       1, 1, 4, 3, 3, 3, 3, 3, 0, 3, 6, 2, 1, 3, 5, 3, 1, 1, 1, 4, 3, 4,\n",
              "       6, 4, 3, 3, 6, 6, 3, 2, 3, 2, 1, 6, 4, 4, 3, 0, 4, 3, 3, 3, 3, 3,\n",
              "       3, 3, 3, 6, 3, 2, 1, 3, 1, 1, 6, 6, 3, 3, 3, 1, 3, 1, 3, 3, 3, 1,\n",
              "       3, 1, 6, 4, 3, 1, 3, 4, 1, 3, 1, 3, 3, 0, 3, 4, 4, 3, 1, 3, 6, 6,\n",
              "       6, 3, 4, 4, 3, 3, 1, 1, 2, 2, 5, 1, 3, 5, 1, 3, 3, 1, 1, 1, 1, 3,\n",
              "       3, 3, 6, 0, 1, 3, 6, 5, 5, 1, 3, 1, 5, 1, 3, 3, 1, 1, 6, 1, 5, 6,\n",
              "       3, 2, 2, 3, 3, 3, 3, 1, 2, 3, 3, 3, 3, 2, 3, 2, 3, 2, 6, 3, 3, 6,\n",
              "       3, 3, 5, 2, 1, 2, 3, 3, 6, 2, 1, 2, 6, 5, 3, 3, 3, 3, 3, 0, 0, 1,\n",
              "       3, 0, 1, 1, 6, 3, 3, 3, 1, 3, 3, 3, 1, 0, 3, 1, 6, 3, 3, 3, 3, 5,\n",
              "       2, 3, 3, 0, 3, 3, 3, 4, 4, 3, 3, 0, 3, 4, 3, 1, 6, 0, 3, 3, 3, 1,\n",
              "       3, 4, 1, 1, 3, 6, 1, 1, 3, 3, 4, 3, 6, 3, 3, 3, 1, 1, 3, 3, 1, 1,\n",
              "       3, 3, 3, 4, 3, 3, 5, 3, 3, 0, 4, 2, 3, 4, 3, 0, 6, 2, 1, 3, 1, 5,\n",
              "       1, 3, 3, 3, 1, 6, 3, 3, 1, 1, 3, 2, 5, 3])"
            ]
          },
          "metadata": {},
          "execution_count": 14
        }
      ]
    },
    {
      "cell_type": "code",
      "metadata": {
        "colab": {
          "base_uri": "https://localhost:8080/"
        },
        "id": "w7VYIY3cTGlE",
        "outputId": "b2b025a9-58c1-4406-df75-241bf552cf75"
      },
      "source": [
        "print(classification_report(y_test, y_pred, target_names=target_names))"
      ],
      "execution_count": null,
      "outputs": [
        {
          "output_type": "stream",
          "name": "stdout",
          "text": [
            "                   precision    recall  f1-score   support\n",
            "\n",
            "     Ariel Sharon       0.59      0.77      0.67        13\n",
            "     Colin Powell       0.83      0.92      0.87        60\n",
            "  Donald Rumsfeld       0.68      0.56      0.61        27\n",
            "    George W Bush       0.87      0.90      0.88       146\n",
            "Gerhard Schroeder       0.75      0.72      0.73        25\n",
            "      Hugo Chavez       0.77      0.67      0.71        15\n",
            "       Tony Blair       0.86      0.69      0.77        36\n",
            "\n",
            "         accuracy                           0.82       322\n",
            "        macro avg       0.76      0.75      0.75       322\n",
            "     weighted avg       0.82      0.82      0.82       322\n",
            "\n"
          ]
        }
      ]
    },
    {
      "cell_type": "code",
      "metadata": {
        "colab": {
          "base_uri": "https://localhost:8080/"
        },
        "id": "bnO8IUSmTR0L",
        "outputId": "c4e61826-f719-4d17-f4db-a4d0528c7870"
      },
      "source": [
        "print(confusion_matrix(y_test, y_pred, labels=range(n_classes)))"
      ],
      "execution_count": null,
      "outputs": [
        {
          "output_type": "stream",
          "name": "stdout",
          "text": [
            "[[ 10   1   1   1   0   0   0]\n",
            " [  0  55   1   4   0   0   0]\n",
            " [  4   2  15   5   1   0   0]\n",
            " [  1   4   4 131   1   2   3]\n",
            " [  0   0   1   5  18   1   0]\n",
            " [  0   2   0   1   1  10   1]\n",
            " [  2   2   0   4   3   0  25]]\n"
          ]
        }
      ]
    },
    {
      "cell_type": "code",
      "metadata": {
        "colab": {
          "base_uri": "https://localhost:8080/"
        },
        "id": "rrmw2OrwTtZn",
        "outputId": "67a51bc6-4bfa-4c7f-ca81-df31e0baa36e"
      },
      "source": [
        "from sklearn.metrics import accuracy_score\n",
        "score = accuracy_score(y_test, y_pred)\n",
        "print(score)"
      ],
      "execution_count": null,
      "outputs": [
        {
          "output_type": "stream",
          "name": "stdout",
          "text": [
            "0.8198757763975155\n"
          ]
        }
      ]
    }
  ]
}